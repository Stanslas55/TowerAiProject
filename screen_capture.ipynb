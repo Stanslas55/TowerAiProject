{
 "cells": [
  {
   "cell_type": "code",
   "execution_count": 20,
   "metadata": {},
   "outputs": [],
   "source": [
    "import pyautogui\n",
    "from screeninfo import get_monitors"
   ]
  },
  {
   "cell_type": "code",
   "execution_count": 25,
   "metadata": {},
   "outputs": [
    {
     "name": "stdout",
     "output_type": "stream",
     "text": [
      "(3840, 0, 3840, 2160)\n"
     ]
    }
   ],
   "source": [
    "monitor = get_monitors()[0]\n",
    "region = (monitor.x, monitor.y, monitor.width, monitor.height)\n",
    "#print(region)"
   ]
  },
  {
   "cell_type": "code",
   "execution_count": 22,
   "metadata": {},
   "outputs": [],
   "source": [
    "monitor_screen = pyautogui.screenshot(region=region)\n",
    "monitor_screen.show()"
   ]
  },
  {
   "cell_type": "code",
   "execution_count": 24,
   "metadata": {},
   "outputs": [
    {
     "name": "stdout",
     "output_type": "stream",
     "text": [
      "Box(left=5213, top=1377, width=1067, height=447)\n"
     ]
    }
   ],
   "source": [
    "localisation4Boxes = pyautogui.locateOnScreen('./images/Positions.png', region=region)\n",
    "print(localisation4Boxes)"
   ]
  },
  {
   "cell_type": "code",
   "execution_count": 71,
   "metadata": {},
   "outputs": [],
   "source": [
    "box_width = 532 # 1065 / 2\n",
    "box_height = 215 # 430 / 2\n",
    "\n",
    "stride = 10\n",
    "\n",
    "X = region[0] + 1385\n",
    "Y = 1380\n",
    "# X, Y, Width, Height of the box.\n",
    "locTL = (X, Y, box_width, box_height)\n",
    "centerTL = (X + box_width / 2, Y + box_height / 2)\n",
    "\n",
    "locTR = (X + box_width + stride, Y, box_width, box_height)\n",
    "centerTR = (X + box_width + stride + box_width / 2, Y + box_height / 2) \n",
    "\n",
    "locBR = (X + box_width + stride, Y + box_height, box_width, box_height)\n",
    "centerBR = (X + box_width + stride + box_width / 2, Y + box_height + box_height / 2)\n",
    "\n",
    "# Need to find the Sword, Shield, Star position and centers.\n",
    "\n",
    "monitor_screen = pyautogui.screenshot(region=locBR)\n",
    "monitor_screen.show()"
   ]
  }
 ],
 "metadata": {
  "kernelspec": {
   "display_name": "Python 3.10.4 ('.towerenv': venv)",
   "language": "python",
   "name": "python3"
  },
  "language_info": {
   "codemirror_mode": {
    "name": "ipython",
    "version": 3
   },
   "file_extension": ".py",
   "mimetype": "text/x-python",
   "name": "python",
   "nbconvert_exporter": "python",
   "pygments_lexer": "ipython3",
   "version": "3.10.4"
  },
  "orig_nbformat": 4,
  "vscode": {
   "interpreter": {
    "hash": "0014d88f5197863c77982440e4943d5adffdb67a16966cf20cc47df37daa05e2"
   }
  }
 },
 "nbformat": 4,
 "nbformat_minor": 2
}
