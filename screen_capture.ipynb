{
 "cells": [
  {
   "cell_type": "code",
   "execution_count": 76,
   "metadata": {},
   "outputs": [],
   "source": [
    "import pyautogui\n",
    "from screeninfo import get_monitors"
   ]
  },
  {
   "cell_type": "code",
   "execution_count": 77,
   "metadata": {},
   "outputs": [],
   "source": [
    "# This section gets the main monitor's features (x and y start position, width and height).\n",
    "\n",
    "monitor = get_monitors()[0]\n",
    "main_screen = (monitor.x, monitor.y, monitor.width, monitor.height)\n",
    "#print(region)"
   ]
  },
  {
   "cell_type": "code",
   "execution_count": 78,
   "metadata": {},
   "outputs": [],
   "source": [
    "# Show a screenshot, proving the retrieved features are corrects.\n",
    "\n",
    "monitor_screen = pyautogui.screenshot(region=main_screen)\n",
    "monitor_screen.show()"
   ]
  },
  {
   "cell_type": "code",
   "execution_count": 79,
   "metadata": {},
   "outputs": [
    {
     "name": "stdout",
     "output_type": "stream",
     "text": [
      "Box(left=5213, top=1377, width=1067, height=447)\n"
     ]
    }
   ],
   "source": [
    "# Find the stats boxes cordinates.\n",
    "\n",
    "localisation4Boxes = pyautogui.locateOnScreen('./images/Positions.png', region=main_screen)\n",
    "print(localisation4Boxes)"
   ]
  },
  {
   "cell_type": "code",
   "execution_count": 80,
   "metadata": {},
   "outputs": [
    {
     "name": "stdout",
     "output_type": "stream",
     "text": [
      "Box(left=5197, top=1973, width=559, height=106)\n"
     ]
    }
   ],
   "source": [
    "# Find the tab coordinates (Sword and Shield).\n",
    "\n",
    "localisationTabs = pyautogui.locateOnScreen('./images/Tabs.png', region=main_screen)\n",
    "print(localisationTabs)"
   ]
  },
  {
   "cell_type": "code",
   "execution_count": 106,
   "metadata": {},
   "outputs": [],
   "source": [
    "stat_box_width = 532 # 1065 / 2\n",
    "stat_box_height = 215 # 430 / 2\n",
    "\n",
    "X_stat_box = main_screen[0] + 1385\n",
    "Y_stat_box = 1380\n",
    "\n",
    "stride = 10\n",
    "\n",
    "# loc variables contain starting X and Y, then Width and Height of the box.\n",
    "locTL = (X_stat_box, Y_stat_box, stat_box_width, stat_box_height)\n",
    "# center variables contains the center of the boxes, to click later when needed.\n",
    "centerTL = (X_stat_box + stat_box_width / 2, Y_stat_box + stat_box_height / 2)\n",
    "\n",
    "locTR = (X_stat_box + stat_box_width + stride, Y_stat_box, stat_box_width, stat_box_height)\n",
    "centerTR = (X_stat_box + stat_box_width + stride + stat_box_width / 2, Y_stat_box + stat_box_height / 2) \n",
    "\n",
    "locBR = (X_stat_box + stat_box_width + stride, Y_stat_box + stat_box_height, stat_box_width, stat_box_height)\n",
    "centerBR = (X_stat_box + stat_box_width + stride + stat_box_width / 2, Y_stat_box + stat_box_height + stat_box_height / 2)\n",
    "\n",
    "# Need to find the Sword, Shield, Star position and centers. Same proccess than before.\n",
    "X_tab_box = main_screen[0] + 1357\n",
    "Y_tab_box = 1973\n",
    "\n",
    "tab_box_width = 279.5 #559 / 2\n",
    "tab_box_height = 106\n",
    "\n",
    "locSword = (X_tab_box, Y_tab_box, tab_box_width, tab_box_height)\n",
    "centerSword = (X_tab_box + tab_box_width / 2, Y_tab_box + tab_box_height / 2)\n",
    "\n",
    "locShield = (X_tab_box + tab_box_width + stride / 4, Y_tab_box, tab_box_width, tab_box_height)\n",
    "centerShield = (X_tab_box + tab_box_width + stride / 4 + tab_box_width / 2, Y_tab_box + tab_box_height / 2)"
   ]
  },
  {
   "cell_type": "code",
   "execution_count": 110,
   "metadata": {},
   "outputs": [],
   "source": [
    "def click(item):\n",
    "    pyautogui.click(x=item[0], y=item[1], clicks=1, button='left')"
   ]
  },
  {
   "cell_type": "code",
   "execution_count": 111,
   "metadata": {},
   "outputs": [],
   "source": [
    "click(centerSword)"
   ]
  },
  {
   "cell_type": "code",
   "execution_count": 114,
   "metadata": {},
   "outputs": [],
   "source": [
    "screen_to_ocr = pyautogui.screenshot(region=locTL, imageFilename=\"./images/screen_to_ocr.png\")\n",
    "screen_to_ocr.show()"
   ]
  },
  {
   "cell_type": "code",
   "execution_count": null,
   "metadata": {},
   "outputs": [],
   "source": []
  }
 ],
 "metadata": {
  "kernelspec": {
   "display_name": "Python 3.10.4 ('.towerenv': venv)",
   "language": "python",
   "name": "python3"
  },
  "language_info": {
   "codemirror_mode": {
    "name": "ipython",
    "version": 3
   },
   "file_extension": ".py",
   "mimetype": "text/x-python",
   "name": "python",
   "nbconvert_exporter": "python",
   "pygments_lexer": "ipython3",
   "version": "3.10.4"
  },
  "orig_nbformat": 4,
  "vscode": {
   "interpreter": {
    "hash": "0014d88f5197863c77982440e4943d5adffdb67a16966cf20cc47df37daa05e2"
   }
  }
 },
 "nbformat": 4,
 "nbformat_minor": 2
}
