{
 "cells": [
  {
   "cell_type": "code",
   "execution_count": 2,
   "metadata": {},
   "outputs": [],
   "source": [
    "import pyautogui\n",
    "from screeninfo import get_monitors"
   ]
  },
  {
   "cell_type": "code",
   "execution_count": 3,
   "metadata": {},
   "outputs": [
    {
     "name": "stdout",
     "output_type": "stream",
     "text": [
      "(0, 0, 3840, 2160)\n"
     ]
    }
   ],
   "source": [
    "# This section gets the main monitor's features (x and y start position, width and height).\n",
    "\n",
    "monitor = get_monitors()[0]\n",
    "main_screen = (monitor.x, monitor.y, monitor.width, monitor.height)\n",
    "print(main_screen)"
   ]
  },
  {
   "cell_type": "code",
   "execution_count": 3,
   "metadata": {},
   "outputs": [
    {
     "name": "stderr",
     "output_type": "stream",
     "text": [
      "\n",
      "(eog:4102): Gtk-WARNING **: 23:35:46.873: Could not load a pixbuf from icon theme.\n",
      "This may indicate that pixbuf loaders or the mime database could not be found.\n"
     ]
    }
   ],
   "source": [
    "# Show a screenshot, proving the retrieved features are corrects.\n",
    "\n",
    "monitor_screen = pyautogui.screenshot(region=main_screen)\n",
    "monitor_screen.show()"
   ]
  },
  {
   "cell_type": "code",
   "execution_count": 4,
   "metadata": {},
   "outputs": [
    {
     "name": "stdout",
     "output_type": "stream",
     "text": [
      "None\n"
     ]
    }
   ],
   "source": [
    "# Find the stats boxes cordinates.\n",
    "\n",
    "localisation4Boxes = pyautogui.locateOnScreen('./images/Positions.png', region=main_screen)\n",
    "print(localisation4Boxes)"
   ]
  },
  {
   "cell_type": "code",
   "execution_count": 5,
   "metadata": {},
   "outputs": [
    {
     "name": "stdout",
     "output_type": "stream",
     "text": [
      "None\n"
     ]
    }
   ],
   "source": [
    "# Find the tab coordinates (Sword and Shield).\n",
    "\n",
    "localisationTabs = pyautogui.locateOnScreen('./images/Tabs.png', region=main_screen)\n",
    "print(localisationTabs)"
   ]
  },
  {
   "cell_type": "code",
   "execution_count": 4,
   "metadata": {},
   "outputs": [],
   "source": [
    "stat_box_width = 532 # 1065 / 2\n",
    "stat_box_height = 215 # 430 / 2\n",
    "\n",
    "X_stat_box = main_screen[0] + 1385\n",
    "Y_stat_box = 1380\n",
    "\n",
    "stride = 10\n",
    "\n",
    "# loc variables contain starting X and Y, then Width and Height of the box.\n",
    "locTL = (X_stat_box + stat_box_width / 2, Y_stat_box, stat_box_width / 2, stat_box_height)\n",
    "# center variables contains the center of the boxes, to click later when needed.\n",
    "centerTL = (X_stat_box + stat_box_width / 2, Y_stat_box + stat_box_height / 2)\n",
    "\n",
    "locTR = (X_stat_box + stat_box_width + stride + stat_box_width / 2, Y_stat_box, stat_box_width / 2, stat_box_height)\n",
    "centerTR = (X_stat_box + stat_box_width + stride + stat_box_width / 2, Y_stat_box + stat_box_height / 2) \n",
    "\n",
    "locBR = (X_stat_box + stat_box_width + stride + stat_box_width / 2, Y_stat_box + stat_box_height, stat_box_width / 2, stat_box_height)\n",
    "centerBR = (X_stat_box + stat_box_width + stride + stat_box_width / 2, Y_stat_box + stat_box_height + stat_box_height / 2)\n",
    "\n",
    "# Need to find the Sword, Shield, Star position and centers. Same proccess than before.\n",
    "X_tab_box = main_screen[0] + 1357\n",
    "Y_tab_box = 1973\n",
    "\n",
    "tab_box_width = 279.5 #559 / 2\n",
    "tab_box_height = 106\n",
    "\n",
    "locSword = (X_tab_box, Y_tab_box, tab_box_width, tab_box_height)\n",
    "centerSword = (X_tab_box + tab_box_width / 2, Y_tab_box + tab_box_height / 2)\n",
    "\n",
    "locShield = (X_tab_box + tab_box_width + stride / 4, Y_tab_box, tab_box_width, tab_box_height)\n",
    "centerShield = (X_tab_box + tab_box_width + stride / 4 + tab_box_width / 2, Y_tab_box + tab_box_height / 2)"
   ]
  },
  {
   "cell_type": "code",
   "execution_count": 5,
   "metadata": {},
   "outputs": [],
   "source": [
    "from time import sleep\n",
    "sleep(3)\n",
    "\n",
    "Degats = pyautogui.screenshot(region=locTL)\n",
    "Degats.show()"
   ]
  },
  {
   "cell_type": "code",
   "execution_count": 6,
   "metadata": {},
   "outputs": [],
   "source": [
    "def click(item):\n",
    "    pyautogui.click(x=item[0], y=item[1], clicks=1, button='left')"
   ]
  },
  {
   "cell_type": "code",
   "execution_count": 9,
   "metadata": {},
   "outputs": [],
   "source": [
    "click(centerSword)"
   ]
  },
  {
   "cell_type": "code",
   "execution_count": 10,
   "metadata": {},
   "outputs": [],
   "source": [
    "screen_to_ocr = pyautogui.screenshot(region=locTL, imageFilename=\"./images/image_to_ocr.png\")\n",
    "screen_to_ocr.show()"
   ]
  },
  {
   "cell_type": "code",
   "execution_count": 7,
   "metadata": {},
   "outputs": [],
   "source": [
    "from PIL import Image\n",
    "\n",
    "import pytesseract"
   ]
  },
  {
   "cell_type": "code",
   "execution_count": 8,
   "metadata": {},
   "outputs": [
    {
     "name": "stdout",
     "output_type": "stream",
     "text": [
      "['20.73K', '16.39K']\n"
     ]
    }
   ],
   "source": [
    "# In the case of \"Dégats\" we have to make this little processing.\n",
    "sleep(5)\n",
    "screen_to_ocr = pyautogui.screenshot(region=locTL)\n",
    "\n",
    "Degats_OCR = pytesseract.image_to_string(screen_to_ocr)\n",
    "\n",
    "Degats_OCR = Degats_OCR.split(\"\\n\")[:2]\n",
    "\n",
    "\n",
    "Degats_OCR = [i.replace(',', '.') for i in Degats_OCR]\n",
    "Degats_OCR = [i.replace('$ ', '') for i in Degats_OCR]\n",
    "\n",
    "print(Degats_OCR)\n"
   ]
  },
  {
   "cell_type": "code",
   "execution_count": 33,
   "metadata": {},
   "outputs": [],
   "source": [
    "def letter_to_number(x):\n",
    "    if 'K' in x:\n",
    "        return float(x.replace('K', '')) * 1000\n",
    "\n",
    "    if 'M' in x:       \n",
    "        return float(x.replace('M', '')) * 1000000"
   ]
  },
  {
   "cell_type": "code",
   "execution_count": 50,
   "metadata": {},
   "outputs": [
    {
     "name": "stdout",
     "output_type": "stream",
     "text": [
      "[20730.0, 16390.0]\n"
     ]
    }
   ],
   "source": [
    "Degats_OCR = list(map(letter_to_number, Degats_OCR))\n",
    "print(Degats_OCR)"
   ]
  },
  {
   "cell_type": "code",
   "execution_count": 28,
   "metadata": {},
   "outputs": [
    {
     "data": {
      "image/png": "[encoded data removed]",
      "text/plain": [
       "<Figure size 640x480 with 4 Axes>"
      ]
     },
     "metadata": {},
     "output_type": "display_data"
    }
   ],
   "source": [
    "# In the case of \"PV\" we have to make this little processing.\n",
    "\n",
    "import cv2 as cv\n",
    "import numpy as np\n",
    "from matplotlib import pyplot as plt\n",
    "\n",
    "titles = ['BINARY','BINARY_INV','TRUNC','TOZERO_INV']\n",
    "\n",
    "screen_to_ocr = pyautogui.screenshot(region=locTL)\n",
    "screen_to_ocr = np.array(screen_to_ocr)\n",
    "\n",
    "images = []\n",
    "\n",
    "threshs = [cv.THRESH_BINARY, cv.THRESH_BINARY_INV, cv.THRESH_TRUNC, cv.THRESH_TOZERO_INV]\n",
    "\n",
    "for t in threshs:\n",
    "    res, thresh = cv.threshold(screen_to_ocr,127,255, t)\n",
    "    images.append(thresh)\n",
    "\n",
    "for i in range(len(titles)):\n",
    "    plt.subplot(2,3,i+1),plt.imshow(images[i],'gray',vmin=0,vmax=255)\n",
    "    plt.title(titles[i])\n",
    "    plt.xticks([]),plt.yticks([])\n",
    "plt.show()"
   ]
  },
  {
   "cell_type": "code",
   "execution_count": null,
   "metadata": {},
   "outputs": [],
   "source": [
    "# screen_to_ocr.show()\n",
    "# Pv_OCR = pytesseract.image_to_string(screen_to_ocr)\n",
    "# print(Pv_OCR)\n",
    "\n",
    "# Split accordingly.\n",
    "\n",
    "#..._OCR = ..._OCR.split(\"\\n\")[:2]\n",
    "\n",
    "#..._OCR = [i.replace(',', '.') for i in ..._OCR]\n",
    "#..._OCR = [i.replace('$ ', '') for i in ..._OCR]\n",
    "\n",
    "#print(..._OCR)"
   ]
  },
  {
   "cell_type": "code",
   "execution_count": 29,
   "metadata": {},
   "outputs": [
    {
     "name": "stdout",
     "output_type": "stream",
     "text": [
      "20,73K\n",
      "EB [Reh] 4\n",
      "\n",
      " \n",
      "\f\n",
      "20,73K\n",
      "$ 16,39K\n",
      "\n",
      " \n",
      "\f\n",
      "20,73K\n",
      "eT) 4\n",
      "\n",
      " \n",
      "\f\n",
      "\f\n"
     ]
    }
   ],
   "source": [
    "for i in images:\n",
    "   \n",
    "    print(pytesseract.image_to_string(i))\n",
    "\n",
    "\n",
    "    "
   ]
  },
  {
   "cell_type": "code",
   "execution_count": 36,
   "metadata": {},
   "outputs": [
    {
     "name": "stdout",
     "output_type": "stream",
     "text": [
      "10,51\n",
      "\f\n"
     ]
    }
   ],
   "source": [
    "# In the case of \"PV\" we have to make this little processing.\n",
    "\n",
    "import cv2 as cv\n",
    "import numpy as np\n",
    "from matplotlib import pyplot as plt\n",
    "\n",
    "screen_to_ocr = pyautogui.screenshot(region=locTR)\n",
    "screen_to_ocr = np.array(screen_to_ocr)\n",
    "\n",
    "res, thresh_image = cv.threshold(screen_to_ocr,127,255, cv.THRESH_BINARY_INV)\n",
    "OCRed = pytesseract.image_to_string(thresh_image)\n",
    "\n",
    "print(OCRed)\n"
   ]
  },
  {
   "cell_type": "code",
   "execution_count": null,
   "metadata": {},
   "outputs": [],
   "source": [
    "# We can now make logical comparisons and act accordingly."
   ]
  }
 ],
 "metadata": {
  "kernelspec": {
   "display_name": "Python 3.10.4 ('.towerenv': venv)",
   "language": "python",
   "name": "python3"
  },
  "language_info": {
   "codemirror_mode": {
    "name": "ipython",
    "version": 3
   },
   "file_extension": ".py",
   "mimetype": "text/x-python",
   "name": "python",
   "nbconvert_exporter": "python",
   "pygments_lexer": "ipython3",
   "version": "3.10.4"
  },
  "orig_nbformat": 4,
  "vscode": {
   "interpreter": {
    "hash": "0014d88f5197863c77982440e4943d5adffdb67a16966cf20cc47df37daa05e2"
   }
  }
 },
 "nbformat": 4,
 "nbformat_minor": 2
}
