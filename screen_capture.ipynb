{
 "cells": [
  {
   "cell_type": "code",
   "execution_count": 1,
   "metadata": {},
   "outputs": [],
   "source": [
    "import pyautogui\n",
    "from screeninfo import get_monitors\n",
    "from time import sleep"
   ]
  },
  {
   "cell_type": "code",
   "execution_count": 2,
   "metadata": {},
   "outputs": [
    {
     "name": "stdout",
     "output_type": "stream",
     "text": [
      "(0, 0, 1920, 1080)\n"
     ]
    }
   ],
   "source": [
    "# This section gets the main monitor's features (x and y start position, width and height).\n",
    "\n",
    "monitor = get_monitors()[0]\n",
    "main_screen = (monitor.x, monitor.y, monitor.width, monitor.height)\n",
    "print(main_screen)"
   ]
  },
  {
   "cell_type": "code",
   "execution_count": 4,
   "metadata": {},
   "outputs": [],
   "source": [
    "# Show a screenshot, proving the retrieved features are corrects.\n",
    "\n",
    "monitor_screen = pyautogui.screenshot(region=main_screen)\n",
    "monitor_screen.show()"
   ]
  },
  {
   "cell_type": "code",
   "execution_count": 4,
   "metadata": {},
   "outputs": [
    {
     "name": "stdout",
     "output_type": "stream",
     "text": [
      "None\n"
     ]
    }
   ],
   "source": [
    "# Find the stats boxes cordinates.\n",
    "\n",
    "localisation4Boxes = pyautogui.locateOnScreen('./images/Positions/Positions.png', region=main_screen)\n",
    "print(localisation4Boxes)"
   ]
  },
  {
   "cell_type": "code",
   "execution_count": 5,
   "metadata": {},
   "outputs": [
    {
     "name": "stdout",
     "output_type": "stream",
     "text": [
      "None\n"
     ]
    }
   ],
   "source": [
    "# Find the tab coordinates (Sword and Shield).\n",
    "\n",
    "localisationTabs = pyautogui.locateOnScreen('./images/Positions/Tabs.png', region=main_screen)\n",
    "print(localisationTabs)"
   ]
  },
  {
   "cell_type": "code",
   "execution_count": 7,
   "metadata": {},
   "outputs": [
    {
     "name": "stdout",
     "output_type": "stream",
     "text": [
      "Box(left=771, top=784, width=173, height=90)\n"
     ]
    }
   ],
   "source": [
    "\n",
    "localisationRetry = pyautogui.locateOnScreen('./images/Retry.png', region=main_screen)\n",
    "print(localisationRetry)\n",
    "\n",
    "#(1542, 1567, 346, 180)\n",
    "\n",
    "# Box(left=771, top=783, width=174, height=95)\n",
    "\n",
    "#29/06/2023\n",
    "#Box(left=771, top=784, width=173, height=90)"
   ]
  },
  {
   "cell_type": "code",
   "execution_count": 16,
   "metadata": {},
   "outputs": [
    {
     "name": "stdout",
     "output_type": "stream",
     "text": [
      "Box(left=689, top=364, width=129, height=75)\n"
     ]
    }
   ],
   "source": [
    "#sleep(6)\n",
    "localisationDiamond = pyautogui.locateOnScreen('./images/DiamondPopUp2.png', region=main_screen)\n",
    "print(localisationDiamond)\n",
    "\n",
    "#(686,395,132,81)\n",
    "\n",
    "#29/06/2023\n",
    "#Box(left=689, top=364, width=129, height=75)"
   ]
  },
  {
   "cell_type": "code",
   "execution_count": 21,
   "metadata": {},
   "outputs": [
    {
     "data": {
      "text/plain": [
       "1542"
      ]
     },
     "execution_count": 21,
     "metadata": {},
     "output_type": "execute_result"
    }
   ],
   "source": [
    "5382 - main_screen[0]"
   ]
  },
  {
   "cell_type": "code",
   "execution_count": 17,
   "metadata": {},
   "outputs": [
    {
     "data": {
      "image/png": "[encoded data removed]",
      "text/plain": [
       "<PIL.Image.Image image mode=RGB size=129x75>"
      ]
     },
     "execution_count": 17,
     "metadata": {},
     "output_type": "execute_result"
    }
   ],
   "source": [
    "#sleep(5)\n",
    "diamond = (689,364,129,75)\n",
    "# (A, B, C, D)\n",
    "\n",
    "pyautogui.screenshot(region=diamond)"
   ]
  },
  {
   "cell_type": "code",
   "execution_count": 21,
   "metadata": {},
   "outputs": [
    {
     "data": {
      "image/png": "[encoded data removed]",
      "text/plain": [
       "<PIL.Image.Image image mode=RGB size=173x90>"
      ]
     },
     "execution_count": 21,
     "metadata": {},
     "output_type": "execute_result"
    }
   ],
   "source": [
    "retry = (771,784,173,90)\n",
    "pyautogui.screenshot(region=retry)"
   ]
  },
  {
   "cell_type": "code",
   "execution_count": 24,
   "metadata": {},
   "outputs": [
    {
     "name": "stdout",
     "output_type": "stream",
     "text": [
      "771.0\n",
      "783.5\n"
     ]
    }
   ],
   "source": [
    "print(1542 / 2)\n",
    "print(1567 / 2)"
   ]
  },
  {
   "cell_type": "code",
   "execution_count": 25,
   "metadata": {},
   "outputs": [],
   "source": [
    "stat_box_width = 532 / 2\n",
    "stat_box_height = 215 / 2\n",
    "\n",
    "X_stat_box = main_screen[0] + 1385 / 2\n",
    "Y_stat_box = 1380 / 2\n",
    "\n",
    "stride = 5\n",
    "\n",
    "X_retry = main_screen[0] + 1542 / 2\n",
    "Y_retry = 1567 / 2\n",
    "\n",
    "# A\n",
    "X_diamond_local = 689\n",
    "# B\n",
    "Y_diamond_local = 364\n",
    "# C\n",
    "Diamond_width = 129\n",
    "# D\n",
    "Diamond_height = 75\n",
    "\n",
    "Retry_width = 173\n",
    "Retry_height = 90\n",
    "\n",
    "X_diamond = main_screen[0] + X_diamond_local\n",
    "Y_diamond = Y_diamond_local\n",
    "\n",
    "# loc variables contain starting X and Y, then Width and Height of the box.\n",
    "locTL = (X_stat_box + stat_box_width / 2, Y_stat_box + 30, stat_box_width / 2 - 15, stat_box_height - 45)\n",
    "# center variables contains the center of the boxes, to click later when needed.\n",
    "centerTL = (X_stat_box + stat_box_width / 2, Y_stat_box + stat_box_height / 2)\n",
    "\n",
    "locTR = (X_stat_box + stat_box_width + stride + stat_box_width / 2, Y_stat_box + 29, stat_box_width / 2 - 15, stat_box_height - 45)\n",
    "centerTR = (X_stat_box + stat_box_width + stride + stat_box_width / 2, Y_stat_box + stat_box_height / 2) \n",
    "\n",
    "locBR = (X_stat_box + stat_box_width + stride + stat_box_width / 2, Y_stat_box + stat_box_height + 35, stat_box_width / 2 - 40, stat_box_height - 45)\n",
    "centerBR = (X_stat_box + stat_box_width + stride + stat_box_width / 2, Y_stat_box + stat_box_height + stat_box_height / 2)\n",
    "\n",
    "# Need to find the Sword, Shield, Star position and centers. Same proccess than before.\n",
    "X_tab_box = main_screen[0] + 1357 / 2\n",
    "Y_tab_box = 1973 / 2\n",
    "\n",
    "tab_box_width = 279.5 / 2\n",
    "tab_box_height = 106 / 2\n",
    "\n",
    "locSword = (X_tab_box, Y_tab_box, tab_box_width, tab_box_height)\n",
    "centerSword = (X_tab_box + tab_box_width / 2, Y_tab_box + tab_box_height / 2)\n",
    "\n",
    "locShield = (X_tab_box + tab_box_width + stride / 4, Y_tab_box, tab_box_width, tab_box_height)\n",
    "centerShield = (X_tab_box + tab_box_width + stride / 4 + tab_box_width / 2, Y_tab_box + tab_box_height / 2)\n",
    "\n",
    "locRetry = (X_retry, Y_retry, Retry_width, Retry_height)\n",
    "centerRetry = (X_retry + Retry_width / 4, Y_retry + Retry_height / 4)\n",
    "\n",
    "locDiamond = (X_diamond, Y_diamond, Diamond_width, Diamond_height)\n",
    "centerDiamond = (X_diamond_local + Diamond_width / 2, Y_diamond_local + Diamond_height / 2)"
   ]
  },
  {
   "cell_type": "code",
   "execution_count": 26,
   "metadata": {},
   "outputs": [
    {
     "data": {
      "image/png": "[encoded data removed]",
      "text/plain": [
       "<PIL.Image.Image image mode=RGB size=173x90>"
      ]
     },
     "execution_count": 26,
     "metadata": {},
     "output_type": "execute_result"
    }
   ],
   "source": [
    "pyautogui.screenshot(region=locRetry)\n"
   ]
  },
  {
   "cell_type": "code",
   "execution_count": 5,
   "metadata": {},
   "outputs": [],
   "source": [
    "def click(item):\n",
    "    pyautogui.click(x=item[0], y=item[1], clicks=1, button='left')"
   ]
  },
  {
   "cell_type": "code",
   "execution_count": 30,
   "metadata": {},
   "outputs": [],
   "source": [
    "click(centerSword)\n",
    "sleep(1)\n",
    "click(centerRetry)"
   ]
  },
  {
   "cell_type": "code",
   "execution_count": 11,
   "metadata": {},
   "outputs": [],
   "source": [
    "sleep(5)\n",
    "click(centerDiamond)"
   ]
  },
  {
   "cell_type": "code",
   "execution_count": 10,
   "metadata": {},
   "outputs": [],
   "source": [
    "screen_to_ocr = pyautogui.screenshot(region=locTL, imageFilename=\"./images/image_to_ocr.png\")\n",
    "screen_to_ocr.show()"
   ]
  },
  {
   "cell_type": "code",
   "execution_count": 13,
   "metadata": {},
   "outputs": [],
   "source": [
    "from PIL import Image\n",
    "\n",
    "import pytesseract\n",
    "pytesseract.pytesseract.tesseract_cmd = r'C:\\Program Files\\Tesseract-OCR\\tesseract.exe'"
   ]
  },
  {
   "cell_type": "code",
   "execution_count": 15,
   "metadata": {},
   "outputs": [
    {
     "name": "stdout",
     "output_type": "stream",
     "text": [
      "['20.73K', '$16.39K']\n"
     ]
    }
   ],
   "source": [
    "# In the case of \"Dégats\" we have to make this little processing.\n",
    "\n",
    "screen_to_ocr = pyautogui.screenshot(region=locTL)\n",
    "\n",
    "Degats_OCR = pytesseract.image_to_string(screen_to_ocr)\n",
    "\n",
    "Degats_OCR = Degats_OCR.split(\"\\n\")[:2]\n",
    "\n",
    "\n",
    "Degats_OCR = [i.replace(',', '.') for i in Degats_OCR]\n",
    "Degats_OCR = [i.replace('$ ', '') for i in Degats_OCR]\n",
    "\n",
    "print(Degats_OCR)\n"
   ]
  },
  {
   "cell_type": "code",
   "execution_count": 33,
   "metadata": {},
   "outputs": [],
   "source": [
    "def letter_to_number(x):\n",
    "    if 'K' in x:\n",
    "        return float(x.replace('K', '')) * 1000\n",
    "\n",
    "    if 'M' in x:       \n",
    "        return float(x.replace('M', '')) * 1000000"
   ]
  },
  {
   "cell_type": "code",
   "execution_count": 50,
   "metadata": {},
   "outputs": [
    {
     "name": "stdout",
     "output_type": "stream",
     "text": [
      "[20730.0, 16390.0]\n"
     ]
    }
   ],
   "source": [
    "Degats_OCR = list(map(letter_to_number, Degats_OCR))\n",
    "print(Degats_OCR)"
   ]
  },
  {
   "cell_type": "code",
   "execution_count": 28,
   "metadata": {},
   "outputs": [
    {
     "data": {
      "image/png": "[encoded data removed]",
      "text/plain": [
       "<Figure size 640x480 with 4 Axes>"
      ]
     },
     "metadata": {},
     "output_type": "display_data"
    }
   ],
   "source": [
    "# In the case of \"PV\" we have to make this little processing.\n",
    "\n",
    "import cv2 as cv\n",
    "import numpy as np\n",
    "from matplotlib import pyplot as plt\n",
    "\n",
    "titles = ['BINARY','BINARY_INV','TRUNC','TOZERO_INV']\n",
    "\n",
    "screen_to_ocr = pyautogui.screenshot(region=locTL)\n",
    "screen_to_ocr = np.array(screen_to_ocr)\n",
    "\n",
    "images = []\n",
    "\n",
    "threshs = [cv.THRESH_BINARY, cv.THRESH_BINARY_INV, cv.THRESH_TRUNC, cv.THRESH_TOZERO_INV]\n",
    "\n",
    "for t in threshs:\n",
    "    res, thresh = cv.threshold(screen_to_ocr,127,255, t)\n",
    "    images.append(thresh)\n",
    "\n",
    "for i in range(len(titles)):\n",
    "    plt.subplot(2,3,i+1),plt.imshow(images[i],'gray',vmin=0,vmax=255)\n",
    "    plt.title(titles[i])\n",
    "    plt.xticks([]),plt.yticks([])\n",
    "plt.show()"
   ]
  },
  {
   "cell_type": "code",
   "execution_count": null,
   "metadata": {},
   "outputs": [],
   "source": [
    "# screen_to_ocr.show()\n",
    "# Pv_OCR = pytesseract.image_to_string(screen_to_ocr)\n",
    "# print(Pv_OCR)\n",
    "\n",
    "# Split accordingly.\n",
    "\n",
    "#..._OCR = ..._OCR.split(\"\\n\")[:2]\n",
    "\n",
    "#..._OCR = [i.replace(',', '.') for i in ..._OCR]\n",
    "#..._OCR = [i.replace('$ ', '') for i in ..._OCR]\n",
    "\n",
    "#print(..._OCR)"
   ]
  },
  {
   "cell_type": "code",
   "execution_count": 29,
   "metadata": {},
   "outputs": [
    {
     "name": "stdout",
     "output_type": "stream",
     "text": [
      "20,73K\n",
      "EB [Reh] 4\n",
      "\n",
      " \n",
      "\f\n",
      "20,73K\n",
      "$ 16,39K\n",
      "\n",
      " \n",
      "\f\n",
      "20,73K\n",
      "eT) 4\n",
      "\n",
      " \n",
      "\f\n",
      "\f\n"
     ]
    }
   ],
   "source": [
    "for i in images:\n",
    "   \n",
    "    print(pytesseract.image_to_string(i))\n",
    "\n",
    "\n",
    "    "
   ]
  },
  {
   "cell_type": "code",
   "execution_count": 36,
   "metadata": {},
   "outputs": [
    {
     "name": "stdout",
     "output_type": "stream",
     "text": [
      "10,51\n",
      "\f\n"
     ]
    }
   ],
   "source": [
    "# In the case of \"PV\" we have to make this little processing.\n",
    "\n",
    "import cv2 as cv\n",
    "import numpy as np\n",
    "from matplotlib import pyplot as plt\n",
    "\n",
    "screen_to_ocr = pyautogui.screenshot(region=locTR)\n",
    "screen_to_ocr = np.array(screen_to_ocr)\n",
    "\n",
    "res, thresh_image = cv.threshold(screen_to_ocr,127,255, cv.THRESH_BINARY_INV)\n",
    "OCRed = pytesseract.image_to_string(thresh_image)\n",
    "\n",
    "print(OCRed)\n"
   ]
  },
  {
   "cell_type": "code",
   "execution_count": null,
   "metadata": {},
   "outputs": [],
   "source": [
    "# We can now make logical comparisons and act accordingly."
   ]
  },
  {
   "cell_type": "code",
   "execution_count": 12,
   "metadata": {},
   "outputs": [
    {
     "data": {
      "text/plain": [
       "Box(left=686, top=395, width=132, height=81)"
      ]
     },
     "execution_count": 12,
     "metadata": {},
     "output_type": "execute_result"
    }
   ],
   "source": [
    "sleep(5)\n",
    "pyautogui.locateOnScreen('./images/DiamondPopUp.png', region=locDiamond)"
   ]
  },
  {
   "cell_type": "code",
   "execution_count": 6,
   "metadata": {},
   "outputs": [
    {
     "data": {
      "text/plain": [
       "Box(left=877, top=609, width=165, height=86)"
      ]
     },
     "execution_count": 6,
     "metadata": {},
     "output_type": "execute_result"
    }
   ],
   "source": [
    "\n",
    "pyautogui.locateOnScreen('./images/Tournament.png', region=main_screen)\n"
   ]
  },
  {
   "cell_type": "code",
   "execution_count": 7,
   "metadata": {},
   "outputs": [
    {
     "data": {
      "image/png": "[encoded data removed]",
      "text/plain": [
       "<PIL.Image.Image image mode=RGB size=165x86>"
      ]
     },
     "execution_count": 7,
     "metadata": {},
     "output_type": "execute_result"
    }
   ],
   "source": [
    "locTournament = (877,609,165,86)\n",
    "pyautogui.screenshot(region=locTournament)"
   ]
  },
  {
   "cell_type": "code",
   "execution_count": 8,
   "metadata": {},
   "outputs": [
    {
     "data": {
      "text/plain": [
       "Box(left=822, top=772, width=280, height=112)"
      ]
     },
     "execution_count": 8,
     "metadata": {},
     "output_type": "execute_result"
    }
   ],
   "source": [
    "pyautogui.locateOnScreen('./images/Start.png', region=main_screen)"
   ]
  },
  {
   "cell_type": "code",
   "execution_count": 9,
   "metadata": {},
   "outputs": [
    {
     "data": {
      "image/png": "[encoded data removed]",
      "text/plain": [
       "<PIL.Image.Image image mode=RGB size=280x112>"
      ]
     },
     "execution_count": 9,
     "metadata": {},
     "output_type": "execute_result"
    }
   ],
   "source": [
    "locStart = (822,772,280,112)\n",
    "pyautogui.screenshot(region=locStart)"
   ]
  }
 ],
 "metadata": {
  "kernelspec": {
   "display_name": "Python 3.10.7 ('towerenv': venv)",
   "language": "python",
   "name": "python3"
  },
  "language_info": {
   "codemirror_mode": {
    "name": "ipython",
    "version": 3
   },
   "file_extension": ".py",
   "mimetype": "text/x-python",
   "name": "python",
   "nbconvert_exporter": "python",
   "pygments_lexer": "ipython3",
   "version": "3.10.11"
  },
  "orig_nbformat": 4,
  "vscode": {
   "interpreter": {
    "hash": "38db4bc55351b25dbd10a316bcfc7095dc62c2554cf6d3f078ce16ded891632e"
   }
  }
 },
 "nbformat": 4,
 "nbformat_minor": 2
}
